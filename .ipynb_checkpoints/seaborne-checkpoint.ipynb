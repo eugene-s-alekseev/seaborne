{
 "cells": [
  {
   "cell_type": "code",
   "execution_count": 40,
   "metadata": {
    "collapsed": true
   },
   "outputs": [],
   "source": [
    "import itertools\n",
    "from pprint import pprint\n",
    "\n",
    "import matplotlib.pyplot as plt\n",
    "import numpy as np\n",
    "import pandas as pd\n",
    "from scipy.optimize import minimize\n",
    "from sklearn.datasets import load_boston\n",
    "from sklearn.linear_model import LinearRegression\n",
    "from sklearn.metrics import mean_squared_error\n",
    "from sklearn.model_selection import train_test_split"
   ]
  },
  {
   "cell_type": "markdown",
   "metadata": {},
   "source": [
    "Задача: предсказывать значение только по одной переменной"
   ]
  },
  {
   "cell_type": "code",
   "execution_count": 63,
   "metadata": {
    "collapsed": true
   },
   "outputs": [],
   "source": [
    "data = load_boston()"
   ]
  },
  {
   "cell_type": "code",
   "execution_count": 64,
   "metadata": {},
   "outputs": [],
   "source": [
    "X = data.data[:, [5]].squeeze()\n",
    "y = data.target"
   ]
  },
  {
   "cell_type": "code",
   "execution_count": 77,
   "metadata": {},
   "outputs": [],
   "source": [
    "X_train, X_test, y_train, y_test = train_test_split(X, y, test_size=0.3)"
   ]
  },
  {
   "cell_type": "markdown",
   "metadata": {},
   "source": [
    "### Base model"
   ]
  },
  {
   "cell_type": "code",
   "execution_count": 78,
   "metadata": {
    "collapsed": true
   },
   "outputs": [],
   "source": [
    "base_model = LinearRegression()"
   ]
  },
  {
   "cell_type": "code",
   "execution_count": 79,
   "metadata": {},
   "outputs": [
    {
     "data": {
      "text/plain": [
       "LinearRegression(copy_X=True, fit_intercept=True, n_jobs=1, normalize=False)"
      ]
     },
     "execution_count": 79,
     "metadata": {},
     "output_type": "execute_result"
    }
   ],
   "source": [
    "base_model.fit(np.expand_dims(X_train, axis=1), y_train)"
   ]
  },
  {
   "cell_type": "code",
   "execution_count": 80,
   "metadata": {
    "collapsed": true
   },
   "outputs": [],
   "source": [
    "base_prediction = base_model.predict(np.expand_dims(X_test, axis=1))"
   ]
  },
  {
   "cell_type": "code",
   "execution_count": 81,
   "metadata": {},
   "outputs": [
    {
     "data": {
      "text/plain": [
       "37.82479887330819"
      ]
     },
     "execution_count": 81,
     "metadata": {},
     "output_type": "execute_result"
    }
   ],
   "source": [
    "mean_squared_error(y_test, base_prediction)"
   ]
  },
  {
   "cell_type": "markdown",
   "metadata": {},
   "source": [
    "## Seaborn"
   ]
  },
  {
   "cell_type": "code",
   "execution_count": 82,
   "metadata": {
    "collapsed": true
   },
   "outputs": [],
   "source": [
    "class Order():\n",
    "    def __init__(self, agent, order_type, amount, price):\n",
    "        self.agent = agent\n",
    "        self.type = order_type\n",
    "        self.amount = amount\n",
    "        self.price = price\n",
    "        \n",
    "    def __execute_sell(self, ) # на потом\n",
    "        \n",
    "    def execute(self, new_amount, new_price):\n",
    "        self.amount = new_amount\n",
    "        self.price = new_price\n",
    "        \n",
    "    def __str__(self):\n",
    "        return str((self.agent, self.type, self.amount, self.price))\n",
    "    \n",
    "    def __repr__(self):\n",
    "        return repr((self.agent, self.type, self.amount, self.price))"
   ]
  },
  {
   "cell_type": "code",
   "execution_count": 62,
   "metadata": {
    "collapsed": true
   },
   "outputs": [],
   "source": [
    "class Exchange():\n",
    "    def __init__(self):\n",
    "        self.buy = list()\n",
    "        self.sell = list()\n",
    "        self.market_price = 0\n",
    "        \n",
    "    def __take_buy_order(self, order):\n",
    "        for i in range(len(self.buy)):\n",
    "            if order.price > self.buy[i].price:\n",
    "                self.buy = self.buy[:i] + [order] + exchange.buy[i:]\n",
    "                return\n",
    "        self.buy = self.buy + [order]\n",
    "        return\n",
    "    \n",
    "    def __take_sell_order(self, order):\n",
    "        for i in range(len(self.sell)):\n",
    "            if order.price < self.sell[i].price:\n",
    "                self.sell = self.sell[:i] + [order] + self.sell[i:]\n",
    "                return\n",
    "        self.sell = self.sell + [order]\n",
    "        return\n",
    "    \n",
    "    def take_order(self, order):\n",
    "        if order.type == \"buy\":\n",
    "            self.__take_buy_order(order)\n",
    "        else:\n",
    "            self.__take_sell_order(order)\n",
    "        self.market_price = self.set_market_price()\n",
    "        self.__execute_orders()\n",
    "        \n",
    "    def get_market_price(self):\n",
    "        self.market_price = (self.buy[0] + self.sell[0]) / 2\n",
    "        return self.market_price\n",
    "    \n",
    "    def __execute_orders(self):\n",
    "        if self.buy[0].price >= self.sell[0].price:\n",
    "            if self.buy[0].amount < self.sell[0].amount:\n",
    "                \n",
    "    \n",
    "    def __str__(self):\n",
    "        return \"Buy: {buy}\".format(buy=self.buy) + \"\\t\" + \"Sell: {sell}\".format(sell=self.sell)\n",
    "    \n",
    "    def __repr__(self):\n",
    "        return \"Buy: {buy}\".format(buy=self.buy) + \"\\t\" + \"Sell: {sell}\".format(sell=self.sell)"
   ]
  },
  {
   "cell_type": "code",
   "execution_count": 53,
   "metadata": {},
   "outputs": [],
   "source": [
    "exchange = Exchange()\n",
    "exchange.take_order(Order(1, \"sell\", 1, 12))\n",
    "exchange.take_order(Order(1, \"sell\", 1, 14))\n",
    "exchange.take_order(Order(1, \"sell\", 1, 10))\n",
    "exchange.take_order(Order(1, \"sell\", 1, 16))\n",
    "exchange.take_order(Order(1, \"sell\", 1, 15))\n",
    "exchange.take_order(Order(1, \"sell\", 1, 18))\n",
    "exchange.take_order(Order(1, \"buy\", 1, 12))\n",
    "exchange.take_order(Order(1, \"buy\", 1, 11))\n",
    "exchange.take_order(Order(1, \"buy\", 1, 14))\n",
    "exchange.take_order(Order(1, \"buy\", 1, 10))\n",
    "exchange.take_order(Order(1, \"buy\", 1, 16))\n",
    "exchange.take_order(Order(1, \"buy\", 1, 15))\n",
    "exchange.take_order(Order(1, \"buy\", 1, 19))"
   ]
  },
  {
   "cell_type": "code",
   "execution_count": 61,
   "metadata": {},
   "outputs": [],
   "source": [
    "class Agent():\n",
    "    def __init__(self, amount=0, agent_id=0):\n",
    "        self.amount = amount\n",
    "        self.agent_id = agent_id\n",
    "        \n",
    "    def make_order(self, order, exchange):\n",
    "        if order.type == \"sell\":\n",
    "            self.amount += order.amount\n",
    "        else:\n",
    "            self.amount -= order.amount\n",
    "        exchange.take_order(order)\n",
    "        \n",
    "    def estimate_price(self, X, y, exchange):\n",
    "        price = (exchange.buy[0].price + exchange.sell[0].price) / 2\n",
    "        new_X = X\n",
    "        for lmbda in (i/100 for i in range(1, 11)):\n",
    "            d_price = np.dot((X*price - y), X)\n",
    "            price = price - lmbda*d_price\n",
    "        return price\n",
    "    \n",
    "    def __get_action(self, price, market_price):\n",
    "        if price > market_price:\n",
    "            # bullish trend\n",
    "            return \"buy\"\n",
    "        else:\n",
    "            # bearish trend\n",
    "            return \"sell\"\n",
    "    \n",
    "    def prepare_order(self, X, y, exchange):\n",
    "        price = self.estimate_price(X, y)\n",
    "        market_price = exchange.get_market_price()\n",
    "        order_type = self.__get_action(price, market_price)\n",
    "        amount = (price - market_price)**2\n",
    "        return Order(self.agent_id, order_type, amount, price)"
   ]
  },
  {
   "cell_type": "code",
   "execution_count": null,
   "metadata": {
    "collapsed": true
   },
   "outputs": [],
   "source": [
    "exchange = Exchange()\n",
    "agents = [Agent(agent_id=i) for i in range(4)]\n",
    "for _ in range(1000):\n",
    "    for agent in agents:\n",
    "        order = agent.prepare_order(X_train, y_train, exchange)\n",
    "        agent.make_order(order, exchange)"
   ]
  }
 ],
 "metadata": {
  "kernelspec": {
   "display_name": "Python 3",
   "language": "python",
   "name": "python3"
  },
  "language_info": {
   "codemirror_mode": {
    "name": "ipython",
    "version": 3
   },
   "file_extension": ".py",
   "mimetype": "text/x-python",
   "name": "python",
   "nbconvert_exporter": "python",
   "pygments_lexer": "ipython3",
   "version": "3.5.3"
  }
 },
 "nbformat": 4,
 "nbformat_minor": 2
}
